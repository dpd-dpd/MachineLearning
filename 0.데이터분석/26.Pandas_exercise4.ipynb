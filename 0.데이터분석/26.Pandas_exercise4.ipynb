{
 "cells": [
  {
   "cell_type": "markdown",
   "metadata": {},
   "source": [
    "# 복잡한 자료구조에서 데이터 꺼내기"
   ]
  },
  {
   "cell_type": "markdown",
   "metadata": {},
   "source": [
    "- 도로명주소 API에서 '산굼부리'로 검색한 결과"
   ]
  },
  {
   "cell_type": "code",
   "execution_count": 1,
   "metadata": {},
   "outputs": [],
   "source": [
    "# Q1) 아래의 결과에서 roadAddr 값을 가져오는 코드를 작성하세요\n",
    "result = {'results': \n",
    "        {'common': \n",
    "        {'errorMessage': '정상',\n",
    "        'countPerPage': '10',\n",
    "        'totalCount': '1',\n",
    "        'errorCode': '0',\n",
    "        'currentPage': '1'},\n",
    "        'juso': [{'detBdNmList': '',\n",
    "        'engAddr': '768, Bijarim-ro, Jocheon-eup, Jeju-si, Jeju-do',\n",
    "        'rn': '비자림로',\n",
    "        'emdNm': '조천읍',\n",
    "        'zipNo': '63346',\n",
    "        'roadAddrPart2': '',\n",
    "        'emdNo': '02',\n",
    "        'sggNm': '제주시',\n",
    "        'jibunAddr': '제주특별자치도 제주시 조천읍 교래리 342-2 산굼부리',\n",
    "        'siNm': '제주특별자치도',\n",
    "        'roadAddrPart1': '제주특별자치도 제주시 조천읍 비자림로 768',\n",
    "        'bdNm': '산굼부리',\n",
    "        'admCd': '5011025929',\n",
    "        'udrtYn': '0',\n",
    "        'lnbrMnnm': '342',\n",
    "        'roadAddr': '제주특별자치도 제주시 조천읍 비자림로 768',\n",
    "        'lnbrSlno': '2',\n",
    "        'buldMnnm': '768',\n",
    "        'bdKdcd': '0',\n",
    "        'liNm': '교래리',\n",
    "        'rnMgtSn': '501103349079',\n",
    "        'mtYn': '0',\n",
    "        'bdMgtSn': '5011025929003420005071420',\n",
    "        'buldSlno': '0'}]}}"
   ]
  },
  {
   "cell_type": "code",
   "execution_count": 2,
   "metadata": {},
   "outputs": [
    {
     "data": {
      "text/plain": [
       "dict_keys(['results'])"
      ]
     },
     "execution_count": 2,
     "metadata": {},
     "output_type": "execute_result"
    }
   ],
   "source": [
    "# result는 딕셔너리, 안에 리스트\n",
    "# roadAddr:제주특~ 뽑기\n",
    "result.keys()"
   ]
  },
  {
   "cell_type": "code",
   "execution_count": 3,
   "metadata": {},
   "outputs": [
    {
     "data": {
      "text/plain": [
       "dict"
      ]
     },
     "execution_count": 3,
     "metadata": {},
     "output_type": "execute_result"
    }
   ],
   "source": [
    "type(result['results'])"
   ]
  },
  {
   "cell_type": "code",
   "execution_count": 4,
   "metadata": {},
   "outputs": [
    {
     "data": {
      "text/plain": [
       "dict_keys(['common', 'juso'])"
      ]
     },
     "execution_count": 4,
     "metadata": {},
     "output_type": "execute_result"
    }
   ],
   "source": [
    "result['results'].keys()"
   ]
  },
  {
   "cell_type": "code",
   "execution_count": 5,
   "metadata": {},
   "outputs": [
    {
     "data": {
      "text/plain": [
       "list"
      ]
     },
     "execution_count": 5,
     "metadata": {},
     "output_type": "execute_result"
    }
   ],
   "source": [
    "type(result['results']['juso'])"
   ]
  },
  {
   "cell_type": "code",
   "execution_count": 6,
   "metadata": {},
   "outputs": [
    {
     "data": {
      "text/plain": [
       "'제주특별자치도 제주시 조천읍 비자림로 768'"
      ]
     },
     "execution_count": 6,
     "metadata": {},
     "output_type": "execute_result"
    }
   ],
   "source": [
    "result['results']['juso'][0]['roadAddr']"
   ]
  },
  {
   "cell_type": "code",
   "execution_count": 7,
   "metadata": {},
   "outputs": [],
   "source": [
    "# 카카오 로컬 API 검색결과\n",
    "# Q2) 아래의 결과에서 x와 y의 값을 가져오는 코드를 작성하세요.\n",
    "\n",
    "result2 = {'documents': \n",
    "    [{'address': \n",
    "        {'address_name': '강원 강릉시 저동 94',\n",
    "            'b_code': '4215013700',\n",
    "            'h_code': '4215066500',\n",
    "            'main_address_no': '94',\n",
    "            'mountain_yn': 'N',\n",
    "            'region_1depth_name': '강원',\n",
    "            'region_2depth_name': '강릉시',\n",
    "            'region_3depth_h_name': '경포동',\n",
    "            'region_3depth_name': '저동',\n",
    "            'sub_address_no': '',\n",
    "            'x': '128.896538649542',\n",
    "            'y': '37.7955687639648'},\n",
    "            'address_name': '강원 강릉시 경포로 365',\n",
    "            'address_type': 'ROAD_ADDR',\n",
    "            'road_address': {'address_name': '강원 강릉시 경포로 365',\n",
    "            'building_name': '경포대',\n",
    "            'main_building_no': '365',\n",
    "            'region_1depth_name': '강원',\n",
    "            'region_2depth_name': '강릉시',\n",
    "            'region_3depth_name': '저동',\n",
    "            'road_name': '경포로',\n",
    "            'sub_building_no': '',\n",
    "            'underground_yn': 'N',\n",
    "            'x': '128.896538649542',\n",
    "            'y': '37.7955687639648',\n",
    "            'zone_no': '25461'},\n",
    "            'x': '128.896538649542',\n",
    "            'y': '37.7955687639648'}],\n",
    "            'meta': {'is_end': True, 'pageable_count': 1, 'total_count': 1}}"
   ]
  },
  {
   "cell_type": "code",
   "execution_count": 8,
   "metadata": {},
   "outputs": [
    {
     "data": {
      "text/plain": [
       "dict_keys(['documents', 'meta'])"
      ]
     },
     "execution_count": 8,
     "metadata": {},
     "output_type": "execute_result"
    }
   ],
   "source": [
    "# 맨 밑의 x,y 를 뽑기\n",
    "result2.keys()"
   ]
  },
  {
   "cell_type": "code",
   "execution_count": 9,
   "metadata": {},
   "outputs": [
    {
     "data": {
      "text/plain": [
       "list"
      ]
     },
     "execution_count": 9,
     "metadata": {},
     "output_type": "execute_result"
    }
   ],
   "source": [
    "type(result2['documents'])"
   ]
  },
  {
   "cell_type": "code",
   "execution_count": 10,
   "metadata": {},
   "outputs": [
    {
     "data": {
      "text/plain": [
       "'128.896538649542'"
      ]
     },
     "execution_count": 10,
     "metadata": {},
     "output_type": "execute_result"
    }
   ],
   "source": [
    "result2['documents'][0]['x']"
   ]
  },
  {
   "cell_type": "code",
   "execution_count": 11,
   "metadata": {},
   "outputs": [
    {
     "data": {
      "text/plain": [
       "(128.896538649542, 37.7955687639648)"
      ]
     },
     "execution_count": 11,
     "metadata": {},
     "output_type": "execute_result"
    }
   ],
   "source": [
    "lng = float(result2['documents'][0]['x'])\n",
    "lat = float(result2['documents'][0]['y'])\n",
    "lng, lat"
   ]
  },
  {
   "cell_type": "code",
   "execution_count": null,
   "metadata": {},
   "outputs": [],
   "source": []
  }
 ],
 "metadata": {
  "interpreter": {
   "hash": "591885455d8045ed11ea84988fd61b594c035d53c448255839666711277b3624"
  },
  "kernelspec": {
   "display_name": "Python 3.8.8 64-bit ('base': conda)",
   "language": "python",
   "name": "python3"
  },
  "language_info": {
   "codemirror_mode": {
    "name": "ipython",
    "version": 3
   },
   "file_extension": ".py",
   "mimetype": "text/x-python",
   "name": "python",
   "nbconvert_exporter": "python",
   "pygments_lexer": "ipython3",
   "version": "3.8.8"
  },
  "orig_nbformat": 4
 },
 "nbformat": 4,
 "nbformat_minor": 2
}
